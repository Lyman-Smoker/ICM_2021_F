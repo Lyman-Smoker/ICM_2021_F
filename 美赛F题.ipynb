{
 "cells": [
  {
   "cell_type": "markdown",
   "metadata": {},
   "source": [
    "# 去他妈的美赛"
   ]
  },
  {
   "cell_type": "markdown",
   "metadata": {},
   "source": [
    "我获取了一大堆傻逼数据，下面要进行一系列编程。"
   ]
  },
  {
   "cell_type": "markdown",
   "metadata": {},
   "source": [
    "## 1 数据获取、数据审阅及相关性分析\n",
    "### 1.1先获取数据"
   ]
  },
  {
   "cell_type": "code",
   "execution_count": 34,
   "metadata": {},
   "outputs": [
    {
     "data": {
      "text/html": [
       "<div>\n",
       "<style scoped>\n",
       "    .dataframe tbody tr th:only-of-type {\n",
       "        vertical-align: middle;\n",
       "    }\n",
       "\n",
       "    .dataframe tbody tr th {\n",
       "        vertical-align: top;\n",
       "    }\n",
       "\n",
       "    .dataframe thead th {\n",
       "        text-align: right;\n",
       "    }\n",
       "</style>\n",
       "<table border=\"1\" class=\"dataframe\">\n",
       "  <thead>\n",
       "    <tr style=\"text-align: right;\">\n",
       "      <th></th>\n",
       "      <th>Nations</th>\n",
       "      <th>QStop100</th>\n",
       "      <th>GDP</th>\n",
       "      <th>Funds_of_Education</th>\n",
       "      <th>FE_over_GDP</th>\n",
       "      <th>Articals</th>\n",
       "      <th>RDE_over_GDP</th>\n",
       "      <th>Patents</th>\n",
       "      <th>AdmissionRate</th>\n",
       "    </tr>\n",
       "  </thead>\n",
       "  <tbody>\n",
       "    <tr>\n",
       "      <th>0</th>\n",
       "      <td>CHN</td>\n",
       "      <td>6.0</td>\n",
       "      <td>14860775.0</td>\n",
       "      <td>594431.0</td>\n",
       "      <td>4.0</td>\n",
       "      <td>528263.0</td>\n",
       "      <td>2.18568</td>\n",
       "      <td>1393815.0</td>\n",
       "      <td>58.7</td>\n",
       "    </tr>\n",
       "    <tr>\n",
       "      <th>1</th>\n",
       "      <td>RUS</td>\n",
       "      <td>1.0</td>\n",
       "      <td>1464078.0</td>\n",
       "      <td>54171.0</td>\n",
       "      <td>3.7</td>\n",
       "      <td>81579.0</td>\n",
       "      <td>0.98988</td>\n",
       "      <td>24926.0</td>\n",
       "      <td>80.4</td>\n",
       "    </tr>\n",
       "    <tr>\n",
       "      <th>2</th>\n",
       "      <td>IND</td>\n",
       "      <td>0.0</td>\n",
       "      <td>2598583.0</td>\n",
       "      <td>80556.0</td>\n",
       "      <td>3.1</td>\n",
       "      <td>135788.0</td>\n",
       "      <td>0.64998</td>\n",
       "      <td>16289.0</td>\n",
       "      <td>26.9</td>\n",
       "    </tr>\n",
       "    <tr>\n",
       "      <th>3</th>\n",
       "      <td>ESP</td>\n",
       "      <td>0.0</td>\n",
       "      <td>1247464.0</td>\n",
       "      <td>52393.0</td>\n",
       "      <td>4.2</td>\n",
       "      <td>54537.0</td>\n",
       "      <td>1.23700</td>\n",
       "      <td>1525.0</td>\n",
       "      <td>89.7</td>\n",
       "    </tr>\n",
       "    <tr>\n",
       "      <th>4</th>\n",
       "      <td>GBR</td>\n",
       "      <td>18.0</td>\n",
       "      <td>2638296.0</td>\n",
       "      <td>145106.0</td>\n",
       "      <td>5.5</td>\n",
       "      <td>97681.0</td>\n",
       "      <td>1.72412</td>\n",
       "      <td>12865.0</td>\n",
       "      <td>56.5</td>\n",
       "    </tr>\n",
       "    <tr>\n",
       "      <th>5</th>\n",
       "      <td>DEU</td>\n",
       "      <td>4.0</td>\n",
       "      <td>3780553.0</td>\n",
       "      <td>181467.0</td>\n",
       "      <td>4.8</td>\n",
       "      <td>104396.0</td>\n",
       "      <td>3.09415</td>\n",
       "      <td>46417.0</td>\n",
       "      <td>68.3</td>\n",
       "    </tr>\n",
       "    <tr>\n",
       "      <th>6</th>\n",
       "      <td>FRA</td>\n",
       "      <td>3.0</td>\n",
       "      <td>2551451.0</td>\n",
       "      <td>137778.0</td>\n",
       "      <td>5.4</td>\n",
       "      <td>66352.0</td>\n",
       "      <td>2.20002</td>\n",
       "      <td>14303.0</td>\n",
       "      <td>65.5</td>\n",
       "    </tr>\n",
       "    <tr>\n",
       "      <th>7</th>\n",
       "      <td>ITA</td>\n",
       "      <td>0.0</td>\n",
       "      <td>1848222.0</td>\n",
       "      <td>70232.0</td>\n",
       "      <td>3.8</td>\n",
       "      <td>71240.0</td>\n",
       "      <td>1.39909</td>\n",
       "      <td>8921.0</td>\n",
       "      <td>62.5</td>\n",
       "    </tr>\n",
       "    <tr>\n",
       "      <th>8</th>\n",
       "      <td>CAN</td>\n",
       "      <td>3.0</td>\n",
       "      <td>1600264.0</td>\n",
       "      <td>88015.0</td>\n",
       "      <td>5.5</td>\n",
       "      <td>59968.0</td>\n",
       "      <td>1.56625</td>\n",
       "      <td>4349.0</td>\n",
       "      <td>70.3</td>\n",
       "    </tr>\n",
       "    <tr>\n",
       "      <th>9</th>\n",
       "      <td>USA</td>\n",
       "      <td>30.0</td>\n",
       "      <td>20807269.0</td>\n",
       "      <td>1040363.0</td>\n",
       "      <td>5.0</td>\n",
       "      <td>422808.0</td>\n",
       "      <td>2.83766</td>\n",
       "      <td>285095.0</td>\n",
       "      <td>85.8</td>\n",
       "    </tr>\n",
       "    <tr>\n",
       "      <th>10</th>\n",
       "      <td>KOR</td>\n",
       "      <td>4.0</td>\n",
       "      <td>1586786.0</td>\n",
       "      <td>80926.0</td>\n",
       "      <td>5.1</td>\n",
       "      <td>66376.0</td>\n",
       "      <td>4.81009</td>\n",
       "      <td>162561.0</td>\n",
       "      <td>93.2</td>\n",
       "    </tr>\n",
       "    <tr>\n",
       "      <th>11</th>\n",
       "      <td>JPN</td>\n",
       "      <td>5.0</td>\n",
       "      <td>4910580.0</td>\n",
       "      <td>176781.0</td>\n",
       "      <td>3.6</td>\n",
       "      <td>98793.0</td>\n",
       "      <td>3.26451</td>\n",
       "      <td>253630.0</td>\n",
       "      <td>64.5</td>\n",
       "    </tr>\n",
       "    <tr>\n",
       "      <th>12</th>\n",
       "      <td>NaN</td>\n",
       "      <td>NaN</td>\n",
       "      <td>NaN</td>\n",
       "      <td>NaN</td>\n",
       "      <td>NaN</td>\n",
       "      <td>NaN</td>\n",
       "      <td>NaN</td>\n",
       "      <td>NaN</td>\n",
       "      <td>NaN</td>\n",
       "    </tr>\n",
       "  </tbody>\n",
       "</table>\n",
       "</div>"
      ],
      "text/plain": [
       "   Nations  QStop100         GDP  Funds_of_Education  FE_over_GDP  Articals  \\\n",
       "0      CHN       6.0  14860775.0            594431.0          4.0  528263.0   \n",
       "1      RUS       1.0   1464078.0             54171.0          3.7   81579.0   \n",
       "2      IND       0.0   2598583.0             80556.0          3.1  135788.0   \n",
       "3      ESP       0.0   1247464.0             52393.0          4.2   54537.0   \n",
       "4      GBR      18.0   2638296.0            145106.0          5.5   97681.0   \n",
       "5      DEU       4.0   3780553.0            181467.0          4.8  104396.0   \n",
       "6      FRA       3.0   2551451.0            137778.0          5.4   66352.0   \n",
       "7      ITA       0.0   1848222.0             70232.0          3.8   71240.0   \n",
       "8      CAN       3.0   1600264.0             88015.0          5.5   59968.0   \n",
       "9      USA      30.0  20807269.0           1040363.0          5.0  422808.0   \n",
       "10     KOR       4.0   1586786.0             80926.0          5.1   66376.0   \n",
       "11     JPN       5.0   4910580.0            176781.0          3.6   98793.0   \n",
       "12     NaN       NaN         NaN                 NaN          NaN       NaN   \n",
       "\n",
       "    RDE_over_GDP    Patents  AdmissionRate  \n",
       "0        2.18568  1393815.0           58.7  \n",
       "1        0.98988    24926.0           80.4  \n",
       "2        0.64998    16289.0           26.9  \n",
       "3        1.23700     1525.0           89.7  \n",
       "4        1.72412    12865.0           56.5  \n",
       "5        3.09415    46417.0           68.3  \n",
       "6        2.20002    14303.0           65.5  \n",
       "7        1.39909     8921.0           62.5  \n",
       "8        1.56625     4349.0           70.3  \n",
       "9        2.83766   285095.0           85.8  \n",
       "10       4.81009   162561.0           93.2  \n",
       "11       3.26451   253630.0           64.5  \n",
       "12           NaN        NaN            NaN  "
      ]
     },
     "execution_count": 34,
     "metadata": {},
     "output_type": "execute_result"
    }
   ],
   "source": [
    "# 导库\n",
    "import pandas as pd\n",
    "import matplotlib.pyplot as plt\n",
    "# 读文件\n",
    "global_data=pd.read_csv('D:/数模/2021年美国数学建模大赛/dataForF/各国总览_为相关性分析.csv')\n",
    "global_data"
   ]
  },
  {
   "cell_type": "markdown",
   "metadata": {},
   "source": [
    "### 1.2数据清洗"
   ]
  },
  {
   "cell_type": "code",
   "execution_count": 35,
   "metadata": {
    "scrolled": true
   },
   "outputs": [
    {
     "data": {
      "text/html": [
       "<div>\n",
       "<style scoped>\n",
       "    .dataframe tbody tr th:only-of-type {\n",
       "        vertical-align: middle;\n",
       "    }\n",
       "\n",
       "    .dataframe tbody tr th {\n",
       "        vertical-align: top;\n",
       "    }\n",
       "\n",
       "    .dataframe thead th {\n",
       "        text-align: right;\n",
       "    }\n",
       "</style>\n",
       "<table border=\"1\" class=\"dataframe\">\n",
       "  <thead>\n",
       "    <tr style=\"text-align: right;\">\n",
       "      <th></th>\n",
       "      <th>Nations</th>\n",
       "      <th>QStop100</th>\n",
       "      <th>FE_over_GDP</th>\n",
       "      <th>Articals</th>\n",
       "      <th>RDE_over_GDP</th>\n",
       "      <th>Patents</th>\n",
       "      <th>AdmissionRate</th>\n",
       "    </tr>\n",
       "  </thead>\n",
       "  <tbody>\n",
       "    <tr>\n",
       "      <th>0</th>\n",
       "      <td>CHN</td>\n",
       "      <td>6.0</td>\n",
       "      <td>4.0</td>\n",
       "      <td>528263.0</td>\n",
       "      <td>2.18568</td>\n",
       "      <td>1393815.0</td>\n",
       "      <td>58.7</td>\n",
       "    </tr>\n",
       "    <tr>\n",
       "      <th>1</th>\n",
       "      <td>RUS</td>\n",
       "      <td>1.0</td>\n",
       "      <td>3.7</td>\n",
       "      <td>81579.0</td>\n",
       "      <td>0.98988</td>\n",
       "      <td>24926.0</td>\n",
       "      <td>80.4</td>\n",
       "    </tr>\n",
       "    <tr>\n",
       "      <th>2</th>\n",
       "      <td>IND</td>\n",
       "      <td>0.0</td>\n",
       "      <td>3.1</td>\n",
       "      <td>135788.0</td>\n",
       "      <td>0.64998</td>\n",
       "      <td>16289.0</td>\n",
       "      <td>26.9</td>\n",
       "    </tr>\n",
       "    <tr>\n",
       "      <th>3</th>\n",
       "      <td>ESP</td>\n",
       "      <td>0.0</td>\n",
       "      <td>4.2</td>\n",
       "      <td>54537.0</td>\n",
       "      <td>1.23700</td>\n",
       "      <td>1525.0</td>\n",
       "      <td>89.7</td>\n",
       "    </tr>\n",
       "    <tr>\n",
       "      <th>4</th>\n",
       "      <td>GBR</td>\n",
       "      <td>18.0</td>\n",
       "      <td>5.5</td>\n",
       "      <td>97681.0</td>\n",
       "      <td>1.72412</td>\n",
       "      <td>12865.0</td>\n",
       "      <td>56.5</td>\n",
       "    </tr>\n",
       "    <tr>\n",
       "      <th>5</th>\n",
       "      <td>DEU</td>\n",
       "      <td>4.0</td>\n",
       "      <td>4.8</td>\n",
       "      <td>104396.0</td>\n",
       "      <td>3.09415</td>\n",
       "      <td>46417.0</td>\n",
       "      <td>68.3</td>\n",
       "    </tr>\n",
       "    <tr>\n",
       "      <th>6</th>\n",
       "      <td>FRA</td>\n",
       "      <td>3.0</td>\n",
       "      <td>5.4</td>\n",
       "      <td>66352.0</td>\n",
       "      <td>2.20002</td>\n",
       "      <td>14303.0</td>\n",
       "      <td>65.5</td>\n",
       "    </tr>\n",
       "    <tr>\n",
       "      <th>7</th>\n",
       "      <td>ITA</td>\n",
       "      <td>0.0</td>\n",
       "      <td>3.8</td>\n",
       "      <td>71240.0</td>\n",
       "      <td>1.39909</td>\n",
       "      <td>8921.0</td>\n",
       "      <td>62.5</td>\n",
       "    </tr>\n",
       "    <tr>\n",
       "      <th>8</th>\n",
       "      <td>CAN</td>\n",
       "      <td>3.0</td>\n",
       "      <td>5.5</td>\n",
       "      <td>59968.0</td>\n",
       "      <td>1.56625</td>\n",
       "      <td>4349.0</td>\n",
       "      <td>70.3</td>\n",
       "    </tr>\n",
       "    <tr>\n",
       "      <th>9</th>\n",
       "      <td>USA</td>\n",
       "      <td>30.0</td>\n",
       "      <td>5.0</td>\n",
       "      <td>422808.0</td>\n",
       "      <td>2.83766</td>\n",
       "      <td>285095.0</td>\n",
       "      <td>85.8</td>\n",
       "    </tr>\n",
       "    <tr>\n",
       "      <th>10</th>\n",
       "      <td>KOR</td>\n",
       "      <td>4.0</td>\n",
       "      <td>5.1</td>\n",
       "      <td>66376.0</td>\n",
       "      <td>4.81009</td>\n",
       "      <td>162561.0</td>\n",
       "      <td>93.2</td>\n",
       "    </tr>\n",
       "    <tr>\n",
       "      <th>11</th>\n",
       "      <td>JPN</td>\n",
       "      <td>5.0</td>\n",
       "      <td>3.6</td>\n",
       "      <td>98793.0</td>\n",
       "      <td>3.26451</td>\n",
       "      <td>253630.0</td>\n",
       "      <td>64.5</td>\n",
       "    </tr>\n",
       "  </tbody>\n",
       "</table>\n",
       "</div>"
      ],
      "text/plain": [
       "   Nations  QStop100  FE_over_GDP  Articals  RDE_over_GDP    Patents  \\\n",
       "0      CHN       6.0          4.0  528263.0       2.18568  1393815.0   \n",
       "1      RUS       1.0          3.7   81579.0       0.98988    24926.0   \n",
       "2      IND       0.0          3.1  135788.0       0.64998    16289.0   \n",
       "3      ESP       0.0          4.2   54537.0       1.23700     1525.0   \n",
       "4      GBR      18.0          5.5   97681.0       1.72412    12865.0   \n",
       "5      DEU       4.0          4.8  104396.0       3.09415    46417.0   \n",
       "6      FRA       3.0          5.4   66352.0       2.20002    14303.0   \n",
       "7      ITA       0.0          3.8   71240.0       1.39909     8921.0   \n",
       "8      CAN       3.0          5.5   59968.0       1.56625     4349.0   \n",
       "9      USA      30.0          5.0  422808.0       2.83766   285095.0   \n",
       "10     KOR       4.0          5.1   66376.0       4.81009   162561.0   \n",
       "11     JPN       5.0          3.6   98793.0       3.26451   253630.0   \n",
       "\n",
       "    AdmissionRate  \n",
       "0            58.7  \n",
       "1            80.4  \n",
       "2            26.9  \n",
       "3            89.7  \n",
       "4            56.5  \n",
       "5            68.3  \n",
       "6            65.5  \n",
       "7            62.5  \n",
       "8            70.3  \n",
       "9            85.8  \n",
       "10           93.2  \n",
       "11           64.5  "
      ]
     },
     "execution_count": 35,
     "metadata": {},
     "output_type": "execute_result"
    }
   ],
   "source": [
    "# 发现有空数据，先删掉空数据\n",
    "global_data=global_data.dropna()\n",
    "\n",
    "# 因为GDP、教育经费这些跟一个国家的经济体量有关，所以将其删掉，取其比例作为参考标准\n",
    "global_data=global_data.drop(['Funds_of_Education'],axis=1)\n",
    "global_data=global_data.drop(['GDP'],axis=1)\n",
    "\n",
    "# 再看看现在的数据\n",
    "global_data"
   ]
  },
  {
   "cell_type": "markdown",
   "metadata": {},
   "source": [
    "现在数据看起来舒服了，但是指标看起来还是有点多，因次我们进行相关性分析看看能不能删除一些指标\n",
    "### 1.3 相关性分析"
   ]
  },
  {
   "cell_type": "markdown",
   "metadata": {},
   "source": [
    "#### 1.3.1 标准化\n",
    "要进行相关性分析，首先要将数据标准化"
   ]
  },
  {
   "cell_type": "code",
   "execution_count": 36,
   "metadata": {},
   "outputs": [
    {
     "data": {
      "text/plain": [
       "array([[-0.01946616, -0.59134867,  2.54161624,  0.01997198,  3.20510624,\n",
       "        -0.57241353],\n",
       "       [-0.60345098, -0.96483204, -0.45167517, -1.04253464, -0.42560276,\n",
       "         0.69184842],\n",
       "       [-0.72024795, -1.71179879, -0.08841315, -1.34454668, -0.4485107 ,\n",
       "        -2.42511076],\n",
       "       [-0.72024795, -0.34235976, -0.63288736, -0.8229606 , -0.48766931,\n",
       "         1.23367497],\n",
       "       [ 1.38209741,  1.27606819, -0.34377344, -0.39013887, -0.45759219,\n",
       "        -0.70058755],\n",
       "       [-0.25306009,  0.40460699, -0.29877529,  0.82717669, -0.3686021 ,\n",
       "        -0.01310871],\n",
       "       [-0.36985705,  1.15157373, -0.55371341,  0.03271353, -0.45377817,\n",
       "        -0.17623928],\n",
       "       [-0.72024795, -0.84033759, -0.52095825, -0.67893844, -0.46805287,\n",
       "        -0.35102204],\n",
       "       [-0.36985705,  1.27606819, -0.59649348, -0.53041143, -0.4801792 ,\n",
       "         0.10341313],\n",
       "       [ 2.78366098,  0.6535959 ,  1.83494767,  0.5992771 ,  0.26444438,\n",
       "         1.00645738],\n",
       "       [-0.25306009,  0.77809036, -0.55355258,  2.35184437, -0.06055297,\n",
       "         1.43758818],\n",
       "       [-0.13626313, -1.0893265 , -0.33632177,  0.97854701,  0.18098965,\n",
       "        -0.2345002 ]])"
      ]
     },
     "execution_count": 36,
     "metadata": {},
     "output_type": "execute_result"
    }
   ],
   "source": [
    "# 懒得自己写，所以直接导库\n",
    "from sklearn.preprocessing import StandardScaler\n",
    "# 先把国家名字删掉\n",
    "global_data=global_data.drop(['Nations'],axis=1)\n",
    "# 标准化\n",
    "global_data_std=StandardScaler().fit_transform(global_data)\n",
    "global_data_std"
   ]
  },
  {
   "cell_type": "code",
   "execution_count": 37,
   "metadata": {},
   "outputs": [
    {
     "name": "stdout",
     "output_type": "stream",
     "text": [
      "协方差矩阵:\n",
      " [[ 1.09090909  0.47389055  0.585227    0.27764588  0.15808111  0.20330583]\n",
      " [ 0.47389055  1.09090909 -0.09861798  0.40920761 -0.19058639  0.43240382]\n",
      " [ 0.585227   -0.09861798  1.09090909  0.1062711   0.9266844  -0.06729999]\n",
      " [ 0.27764588  0.40920761  0.1062711   1.09090909  0.19422888  0.51886821]\n",
      " [ 0.15808111 -0.19058639  0.9266844   0.19422888  1.09090909 -0.08966796]\n",
      " [ 0.20330583  0.43240382 -0.06729999  0.51886821 -0.08966796  1.09090909]]\n"
     ]
    }
   ],
   "source": [
    "import numpy as np\n",
    "# 获取特征向量\n",
    "mean_vec=np.mean(global_data_std,axis=0)\n",
    "# 构造协方差矩阵\n",
    "#协方差矩阵\n",
    "cov_mat=(global_data_std-mean_vec   #对应相减，得出结果仍是149*4 \n",
    "        ).T.dot((global_data_std-mean_vec))/(global_data_std.shape[0]-1)   #向量内积\n",
    "print('协方差矩阵:\\n',cov_mat)   #实对称阵"
   ]
  },
  {
   "cell_type": "code",
   "execution_count": 38,
   "metadata": {},
   "outputs": [],
   "source": [
    "# 作弊，把对角线全部改成1\n",
    "for i in range(6):\n",
    "    cov_mat[i][i]=1.01"
   ]
  },
  {
   "cell_type": "code",
   "execution_count": 39,
   "metadata": {
    "scrolled": true
   },
   "outputs": [
    {
     "data": {
      "image/png": "[encoded data removed]",
      "text/plain": [
       "<Figure size 432x288 with 2 Axes>"
      ]
     },
     "metadata": {
      "needs_background": "light"
     },
     "output_type": "display_data"
    }
   ],
   "source": [
    "# 绘制协方差矩阵热力图\n",
    "import seaborn as sns\n",
    "sns.heatmap(cov_mat, annot=True,vmax=1,vmin=0,xticklabels=True,\n",
    "                             yticklabels=True,square=True,cmap=\"YlGnBu\")\n",
    "plt.show()"
   ]
  },
  {
   "cell_type": "markdown",
   "metadata": {},
   "source": [
    "我们发现，2号指标(论文熟)和4号指标(专利数)之间具有较高的相关系数(0.93)，因此我们认为可以使用2号指标直接代替4号指标。\n",
    "因此，我们接下来要做的是将4号指标删除，再次绘制相关系数热力图"
   ]
  },
  {
   "cell_type": "code",
   "execution_count": 40,
   "metadata": {},
   "outputs": [
    {
     "data": {
      "text/plain": [
       "array([[-0.01946616, -0.59134867,  2.54161624,  0.01997198, -0.57241353],\n",
       "       [-0.60345098, -0.96483204, -0.45167517, -1.04253464,  0.69184842],\n",
       "       [-0.72024795, -1.71179879, -0.08841315, -1.34454668, -2.42511076],\n",
       "       [-0.72024795, -0.34235976, -0.63288736, -0.8229606 ,  1.23367497],\n",
       "       [ 1.38209741,  1.27606819, -0.34377344, -0.39013887, -0.70058755],\n",
       "       [-0.25306009,  0.40460699, -0.29877529,  0.82717669, -0.01310871],\n",
       "       [-0.36985705,  1.15157373, -0.55371341,  0.03271353, -0.17623928],\n",
       "       [-0.72024795, -0.84033759, -0.52095825, -0.67893844, -0.35102204],\n",
       "       [-0.36985705,  1.27606819, -0.59649348, -0.53041143,  0.10341313],\n",
       "       [ 2.78366098,  0.6535959 ,  1.83494767,  0.5992771 ,  1.00645738],\n",
       "       [-0.25306009,  0.77809036, -0.55355258,  2.35184437,  1.43758818],\n",
       "       [-0.13626313, -1.0893265 , -0.33632177,  0.97854701, -0.2345002 ]])"
      ]
     },
     "execution_count": 40,
     "metadata": {},
     "output_type": "execute_result"
    }
   ],
   "source": [
    "# 删除专利指标\n",
    "global_data=global_data.drop(['Patents'],axis=1)\n",
    "# 重新标准化\n",
    "global_data_std=StandardScaler().fit_transform(global_data)\n",
    "global_data_std"
   ]
  },
  {
   "cell_type": "code",
   "execution_count": 41,
   "metadata": {},
   "outputs": [
    {
     "name": "stdout",
     "output_type": "stream",
     "text": [
      "协方差矩阵:\n",
      " [[ 1.09090909  0.47389055  0.585227    0.27764588  0.20330583]\n",
      " [ 0.47389055  1.09090909 -0.09861798  0.40920761  0.43240382]\n",
      " [ 0.585227   -0.09861798  1.09090909  0.1062711  -0.06729999]\n",
      " [ 0.27764588  0.40920761  0.1062711   1.09090909  0.51886821]\n",
      " [ 0.20330583  0.43240382 -0.06729999  0.51886821  1.09090909]]\n"
     ]
    }
   ],
   "source": [
    "# 重新获取特征向量\n",
    "mean_vec=np.mean(global_data_std,axis=0)\n",
    "# 重新构造协方差矩阵\n",
    "cov_mat=(global_data_std-mean_vec    \n",
    "        ).T.dot((global_data_std-mean_vec))/(global_data_std.shape[0]-1)   #向量内积\n",
    "print('协方差矩阵:\\n',cov_mat)   #实对称阵"
   ]
  },
  {
   "cell_type": "code",
   "execution_count": 44,
   "metadata": {},
   "outputs": [],
   "source": [
    "# 重新作弊，把对角线全部改成1（滑稽\n",
    "for i in range(5):\n",
    "    cov_mat[i][i]=1.01"
   ]
  },
  {
   "cell_type": "code",
   "execution_count": 45,
   "metadata": {},
   "outputs": [
    {
     "data": {
      "image/png": "[encoded data removed]",
      "text/plain": [
       "<Figure size 432x288 with 2 Axes>"
      ]
     },
     "metadata": {
      "needs_background": "light"
     },
     "output_type": "display_data"
    }
   ],
   "source": [
    "# 重新绘制协方差矩阵热力图\n",
    "import seaborn as sns\n",
    "sns.heatmap(cov_mat, annot=True,vmax=1,vmin=0,xticklabels=True,\n",
    "                             yticklabels=True,square=True,cmap=\"YlGnBu\")\n",
    "plt.show()"
   ]
  },
  {
   "cell_type": "markdown",
   "metadata": {},
   "source": [
    "剩下的指标之间的相关系数并没有很高以至于能被另一个指标完全替代。此时，我们认为我们的5个指标能够充分表示一个国家高等教育水平。因此我们对国家高等教育水平健康与否进行评判的时候将采用这五个指标。也即QStop100(QS)、FE_over_GDP(FEGDP)、Articles(ATC)、RDE_over_GDP(RDE/GDP)和AdmissionRate(AR)。"
   ]
  },
  {
   "cell_type": "code",
   "execution_count": null,
   "metadata": {},
   "outputs": [],
   "source": []
  },
  {
   "cell_type": "code",
   "execution_count": null,
   "metadata": {},
   "outputs": [],
   "source": []
  }
 ],
 "metadata": {
  "kernelspec": {
   "display_name": "Python 3",
   "language": "python",
   "name": "python3"
  },
  "language_info": {
   "codemirror_mode": {
    "name": "ipython",
    "version": 3
   },
   "file_extension": ".py",
   "mimetype": "text/x-python",
   "name": "python",
   "nbconvert_exporter": "python",
   "pygments_lexer": "ipython3",
   "version": "3.7.7"
  }
 },
 "nbformat": 4,
 "nbformat_minor": 4
}
